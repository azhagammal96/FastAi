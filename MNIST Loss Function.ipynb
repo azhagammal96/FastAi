{
 "cells": [
  {
   "cell_type": "markdown",
   "id": "0c1b4e2f",
   "metadata": {},
   "source": [
    "# MNIST Loss Function Example"
   ]
  },
  {
   "cell_type": "code",
   "execution_count": 1,
   "id": "cb2c918c",
   "metadata": {},
   "outputs": [],
   "source": [
    "import torch\n",
    "import matplotlib.pyplot as plt\n",
    "\n",
    "import fastbook\n",
    "fastbook.setup_book()\n",
    "from fastai.vision.all import *\n",
    "from fastbook import *\n",
    "#!pip install torch==1.7.0+cu110 torchvision==0.8.1+cu110 torchaudio===0.7.0 -f https://download.pytorch.org/whl/torch_stable.html\n"
   ]
  },
  {
   "cell_type": "code",
   "execution_count": 2,
   "id": "11d7bec0",
   "metadata": {},
   "outputs": [],
   "source": [
    "path = untar_data(URLs.MNIST_SAMPLE)"
   ]
  },
  {
   "cell_type": "code",
   "execution_count": 3,
   "id": "c05cb390",
   "metadata": {},
   "outputs": [
    {
     "data": {
      "text/plain": [
       "(#3) [Path('/home/azhasc/.fastai/data/mnist_sample/valid'),Path('/home/azhasc/.fastai/data/mnist_sample/labels.csv'),Path('/home/azhasc/.fastai/data/mnist_sample/train')]"
      ]
     },
     "execution_count": 3,
     "metadata": {},
     "output_type": "execute_result"
    }
   ],
   "source": [
    "path.ls()"
   ]
  },
  {
   "cell_type": "code",
   "execution_count": 4,
   "id": "6524e842",
   "metadata": {},
   "outputs": [],
   "source": [
    "threes = (path/'train'/'3').ls().sorted()\n",
    "sevens = (path/'train'/'7').ls().sorted()"
   ]
  },
  {
   "cell_type": "code",
   "execution_count": 5,
   "id": "99800bc2",
   "metadata": {},
   "outputs": [
    {
     "data": {
      "text/plain": [
       "(torch.Size([1010, 28, 28]), torch.Size([1028, 28, 28]))"
      ]
     },
     "execution_count": 5,
     "metadata": {},
     "output_type": "execute_result"
    }
   ],
   "source": [
    "valid_3_tens = torch.stack([tensor(Image.open(o)) \n",
    "                            for o in (path/'valid'/'3').ls()])\n",
    "valid_3_tens = valid_3_tens.float()/255\n",
    "valid_7_tens = torch.stack([tensor(Image.open(o)) \n",
    "                            for o in (path/'valid'/'7').ls()])\n",
    "valid_7_tens = valid_7_tens.float()/255\n",
    "valid_3_tens.shape,valid_7_tens.shape"
   ]
  },
  {
   "cell_type": "code",
   "execution_count": 6,
   "id": "19e21eec",
   "metadata": {},
   "outputs": [],
   "source": [
    "three_tensors = [tensor(Image.open(o)) for o in threes]\n",
    "seven_tensors = [tensor(Image.open(o)) for o in sevens]"
   ]
  },
  {
   "cell_type": "code",
   "execution_count": 7,
   "id": "dcab2c6a",
   "metadata": {},
   "outputs": [],
   "source": [
    "stacked_threes = torch.stack(three_tensors).float()/255\n",
    "stacked_sevens = torch.stack(seven_tensors).float()/255"
   ]
  },
  {
   "cell_type": "markdown",
   "id": "f35bb29c",
   "metadata": {},
   "source": [
    "## Create the training set\n",
    "\n",
    "### Concatenate to rank 2 vector"
   ]
  },
  {
   "cell_type": "code",
   "execution_count": 8,
   "id": "0cffae59",
   "metadata": {},
   "outputs": [],
   "source": [
    "train_x = torch.cat([stacked_threes, stacked_sevens]).view(-1,28*28)\n"
   ]
  },
  {
   "cell_type": "markdown",
   "id": "287f1e21",
   "metadata": {},
   "source": [
    "### Assign labels"
   ]
  },
  {
   "cell_type": "code",
   "execution_count": 9,
   "id": "b49d314a",
   "metadata": {},
   "outputs": [],
   "source": [
    "train_y = tensor([1]*len(threes) + [0]* len(sevens)).unsqueeze(1)\n"
   ]
  },
  {
   "cell_type": "code",
   "execution_count": 10,
   "id": "c4f2c825",
   "metadata": {},
   "outputs": [
    {
     "data": {
      "text/plain": [
       "(torch.Size([784]), tensor([1]))"
      ]
     },
     "execution_count": 10,
     "metadata": {},
     "output_type": "execute_result"
    }
   ],
   "source": [
    "dset = list(zip(train_x,train_y))\n",
    "x,y = dset[0]\n",
    "x.shape,y"
   ]
  },
  {
   "cell_type": "markdown",
   "id": "0fecf024",
   "metadata": {},
   "source": [
    "### Create the validation set"
   ]
  },
  {
   "cell_type": "code",
   "execution_count": 11,
   "id": "b59ff553",
   "metadata": {},
   "outputs": [],
   "source": [
    "valid_x = torch.cat([valid_3_tens, valid_7_tens]).view(-1, 28*28)\n",
    "valid_y = tensor([1]*len(valid_3_tens) + [0]*len(valid_7_tens)).unsqueeze(1)\n",
    "valid_dset = list(zip(valid_x,valid_y))"
   ]
  },
  {
   "cell_type": "code",
   "execution_count": 12,
   "id": "d6522068",
   "metadata": {},
   "outputs": [],
   "source": [
    "#Step 1\n",
    "\n",
    "def init_params(size, std = 1.0): return (torch.randn(size)*std).requires_grad_()"
   ]
  },
  {
   "cell_type": "code",
   "execution_count": 13,
   "id": "53129e29",
   "metadata": {},
   "outputs": [],
   "source": [
    "weights = init_params((28*28,1))"
   ]
  },
  {
   "cell_type": "code",
   "execution_count": 14,
   "id": "4845d63b",
   "metadata": {},
   "outputs": [],
   "source": [
    "bias = init_params(1)"
   ]
  },
  {
   "cell_type": "markdown",
   "id": "0aefa166",
   "metadata": {},
   "source": [
    "## Calculate prediction for one image"
   ]
  },
  {
   "cell_type": "code",
   "execution_count": 15,
   "id": "39cf042e",
   "metadata": {},
   "outputs": [
    {
     "data": {
      "text/plain": [
       "tensor([-6.2330], grad_fn=<AddBackward0>)"
      ]
     },
     "execution_count": 15,
     "metadata": {},
     "output_type": "execute_result"
    }
   ],
   "source": [
    "(train_x[0]*weights.T).sum() + bias"
   ]
  },
  {
   "cell_type": "code",
   "execution_count": 16,
   "id": "4b1df20b",
   "metadata": {},
   "outputs": [
    {
     "data": {
      "text/plain": [
       "torch.Size([12396, 784])"
      ]
     },
     "execution_count": 16,
     "metadata": {},
     "output_type": "execute_result"
    }
   ],
   "source": [
    "train_x.shape"
   ]
  },
  {
   "cell_type": "markdown",
   "id": "51eb0475",
   "metadata": {},
   "source": [
    "## Prediction using matrix multiplication"
   ]
  },
  {
   "cell_type": "code",
   "execution_count": 17,
   "id": "f127f0de",
   "metadata": {},
   "outputs": [
    {
     "data": {
      "text/plain": [
       "tensor([[ -6.2330],\n",
       "        [-10.6388],\n",
       "        [-20.8865],\n",
       "        ...,\n",
       "        [-15.9176],\n",
       "        [ -1.6866],\n",
       "        [-11.3568]], grad_fn=<AddBackward0>)"
      ]
     },
     "execution_count": 17,
     "metadata": {},
     "output_type": "execute_result"
    }
   ],
   "source": [
    "def linear1(xb): return ((xb@weights) + bias)\n",
    "\n",
    "preds = linear1(train_x)\n",
    "preds"
   ]
  },
  {
   "cell_type": "markdown",
   "id": "e65b94b7",
   "metadata": {},
   "source": [
    "### Calculating accuracy"
   ]
  },
  {
   "cell_type": "code",
   "execution_count": 18,
   "id": "d5526413",
   "metadata": {},
   "outputs": [
    {
     "data": {
      "text/plain": [
       "tensor([[False],\n",
       "        [False],\n",
       "        [False],\n",
       "        ...,\n",
       "        [ True],\n",
       "        [ True],\n",
       "        [ True]])"
      ]
     },
     "execution_count": 18,
     "metadata": {},
     "output_type": "execute_result"
    }
   ],
   "source": [
    "corrects = (preds>0.5).float() == train_y\n",
    "corrects"
   ]
  },
  {
   "cell_type": "code",
   "execution_count": 19,
   "id": "34dd5b09",
   "metadata": {},
   "outputs": [
    {
     "data": {
      "text/plain": [
       "0.5355759859085083"
      ]
     },
     "execution_count": 19,
     "metadata": {},
     "output_type": "execute_result"
    }
   ],
   "source": [
    "a = corrects.float().mean().item()\n",
    "a"
   ]
  },
  {
   "cell_type": "markdown",
   "id": "99ea5fcf",
   "metadata": {},
   "source": [
    "### Change in accuracy when one of the weights is changed"
   ]
  },
  {
   "cell_type": "code",
   "execution_count": 20,
   "id": "e8d043cd",
   "metadata": {},
   "outputs": [
    {
     "data": {
      "text/plain": [
       "0.5355759859085083"
      ]
     },
     "execution_count": 20,
     "metadata": {},
     "output_type": "execute_result"
    }
   ],
   "source": [
    "weights[0] *= 1.001\n",
    "\n",
    "preds = linear1(train_x)\n",
    "((preds>0.5).float() == train_y).float().mean().item()"
   ]
  },
  {
   "cell_type": "markdown",
   "id": "84c9e380",
   "metadata": {},
   "source": [
    "#### As we see, accuracy does not change much, or any at all. Therefore, we need a better LOSS function. "
   ]
  },
  {
   "cell_type": "code",
   "execution_count": 21,
   "id": "0913a706",
   "metadata": {},
   "outputs": [
    {
     "name": "stdout",
     "output_type": "stream",
     "text": [
      "0.43333330750465393\n",
      "0.1666666716337204\n",
      "tensor([0.1000, 0.4000, 0.8000]) tensor([0.1000, 0.2500, 0.1500])\n"
     ]
    }
   ],
   "source": [
    "#example to show how this loss function reduces with small changes\n",
    "# no zero gradient because when pred changes the loss changes cuz pred is half loss in this case\n",
    "\n",
    "\n",
    "trgts = tensor([1,0,1])\n",
    "prds = tensor([0.9,0.4,0.2])\n",
    "prds2 = tensor([0.9,0.25,0.85])\n",
    "\n",
    "a = torch.where(trgts == 1, 1- prds, prds)\n",
    "\n",
    "b = torch.where(trgts == 1, 1- prds2, prds2)\n",
    "\n",
    "print(a.float().mean().item())\n",
    "\n",
    "print(b.float().mean().item())\n",
    "\n",
    "print(a,b)"
   ]
  },
  {
   "cell_type": "code",
   "execution_count": 22,
   "id": "e294afa0",
   "metadata": {},
   "outputs": [],
   "source": [
    "def mnist_loss(predictions,targets):\n",
    "    return torch.where(target==1, 1-predictions,predictions)"
   ]
  },
  {
   "cell_type": "code",
   "execution_count": 23,
   "id": "8135ebbf",
   "metadata": {},
   "outputs": [],
   "source": [
    "#but problem is that in this case mnist loss is assumed to be always between 0 and 1. \n",
    "#So we need to make sure that happens. \n",
    "#Therefore we use the sigmoid function.\n",
    "\n",
    "def sigmoid(x): return (1/(1+torch.exp(-x)))"
   ]
  },
  {
   "cell_type": "code",
   "execution_count": 24,
   "id": "02f47f4f",
   "metadata": {},
   "outputs": [
    {
     "name": "stderr",
     "output_type": "stream",
     "text": [
      "/home/azhasc/anaconda3/lib/python3.8/site-packages/fastbook/__init__.py:74: UserWarning: Not providing a value for linspace's steps is deprecated and will throw a runtime error in a future release. This warning will appear only once per process. (Triggered internally at  /pytorch/aten/src/ATen/native/RangeFactories.cpp:23.)\n",
      "  x = torch.linspace(min,max)\n"
     ]
    },
    {
     "data": {
      "image/png": "[encoded data removed]",
      "text/plain": [
       "<Figure size 432x288 with 1 Axes>"
      ]
     },
     "metadata": {
      "needs_background": "light"
     },
     "output_type": "display_data"
    }
   ],
   "source": [
    "plot_function(torch.sigmoid, title='Sigmoid', min=-4, max=4)"
   ]
  },
  {
   "cell_type": "code",
   "execution_count": 25,
   "id": "4c9c8c59",
   "metadata": {},
   "outputs": [],
   "source": [
    "def mnist_sig_loss(predictions,targets):\n",
    "    predictions = predictions.sigmoid()\n",
    "    return torch.where(targets==1,1-predictions,predictions).mean()"
   ]
  },
  {
   "cell_type": "code",
   "execution_count": 26,
   "id": "7321207c",
   "metadata": {},
   "outputs": [
    {
     "name": "stdout",
     "output_type": "stream",
     "text": [
      "tensor(0.4460) tensor(0.3478)\n",
      "0.44596806168556213\n",
      "0.347760409116745\n"
     ]
    }
   ],
   "source": [
    "trgts = tensor([1,0,1])\n",
    "prds = tensor([0.9,0.4,0.2])\n",
    "prds2 = tensor([1.9,1.25,1.85])\n",
    "\n",
    "\n",
    "a = mnist_sig_loss(prds,trgts)\n",
    "\n",
    "b = mnist_sig_loss(prds2,trgts)\n",
    "print(a,b)\n",
    "print(a.float().mean().item())\n",
    "\n",
    "print(b.float().mean().item())"
   ]
  },
  {
   "cell_type": "markdown",
   "id": "4ab85824",
   "metadata": {},
   "source": [
    "### Example how a DataLoader works"
   ]
  },
  {
   "cell_type": "code",
   "execution_count": 27,
   "id": "c2405dae",
   "metadata": {},
   "outputs": [
    {
     "data": {
      "text/plain": [
       "[(tensor([17, 18, 10, 22,  8, 14]), ('r', 's', 'k', 'w', 'i', 'o')),\n",
       " (tensor([20, 15,  9, 13, 21, 12]), ('u', 'p', 'j', 'n', 'v', 'm')),\n",
       " (tensor([ 7, 25,  6,  5, 11, 23]), ('h', 'z', 'g', 'f', 'l', 'x')),\n",
       " (tensor([ 1,  3,  0, 24, 19, 16]), ('b', 'd', 'a', 'y', 't', 'q')),\n",
       " (tensor([2, 4]), ('c', 'e'))]"
      ]
     },
     "execution_count": 27,
     "metadata": {},
     "output_type": "execute_result"
    }
   ],
   "source": [
    "coll = range(15)\n",
    "dl = DataLoader(coll, batch_size=5, shuffle=True)\n",
    "list(dl)\n",
    "\n",
    "##### For training a model, we don't just want any Python collection, but a collection containing independent and dependent variables (that is, the inputs and targets of the model). A collection that contains tuples of independent and dependent variables is known in PyTorch as a Dataset. Here's an example of an extremely simple Dataset:\n",
    "\n",
    "ds = L(enumerate(string.ascii_lowercase))\n",
    "ds\n",
    "\n",
    "dl = DataLoader(ds, batch_size=6, shuffle=True)\n",
    "list(dl)"
   ]
  },
  {
   "cell_type": "markdown",
   "id": "39e36294",
   "metadata": {},
   "source": [
    "### Putting everything together"
   ]
  },
  {
   "cell_type": "code",
   "execution_count": 28,
   "id": "88607714",
   "metadata": {},
   "outputs": [],
   "source": [
    "#initialise weights\n",
    "\n",
    "weights = init_params((28*28,1))\n",
    "bias = init_params(1)"
   ]
  },
  {
   "cell_type": "code",
   "execution_count": 29,
   "id": "8f923a4e",
   "metadata": {},
   "outputs": [
    {
     "data": {
      "text/plain": [
       "(torch.Size([256, 784]), torch.Size([256, 1]))"
      ]
     },
     "execution_count": 29,
     "metadata": {},
     "output_type": "execute_result"
    }
   ],
   "source": [
    "#Create mini batches\n",
    "\n",
    "dl = DataLoader(dset, batch_size = 256)\n",
    "xb,yb = first(dl)\n",
    "xb.shape,yb.shape"
   ]
  },
  {
   "cell_type": "code",
   "execution_count": 30,
   "id": "7c5b4274",
   "metadata": {},
   "outputs": [],
   "source": [
    "valid_dl = DataLoader(valid_dset, batch_size = 256)"
   ]
  },
  {
   "cell_type": "code",
   "execution_count": 31,
   "id": "fd0821a4",
   "metadata": {},
   "outputs": [
    {
     "data": {
      "text/plain": [
       "torch.Size([4, 784])"
      ]
     },
     "execution_count": 31,
     "metadata": {},
     "output_type": "execute_result"
    }
   ],
   "source": [
    "batch = train_x[:4]\n",
    "batch.shape"
   ]
  },
  {
   "cell_type": "code",
   "execution_count": 32,
   "id": "5ea6c885",
   "metadata": {},
   "outputs": [
    {
     "data": {
      "text/plain": [
       "tensor([[11.6180],\n",
       "        [ 9.0489],\n",
       "        [-2.4524],\n",
       "        [-2.5197]], grad_fn=<AddBackward0>)"
      ]
     },
     "execution_count": 32,
     "metadata": {},
     "output_type": "execute_result"
    }
   ],
   "source": [
    "preds = linear1(batch)\n",
    "preds"
   ]
  },
  {
   "cell_type": "code",
   "execution_count": 33,
   "id": "e039734e",
   "metadata": {},
   "outputs": [
    {
     "data": {
      "text/plain": [
       "tensor(0.4616, grad_fn=<MeanBackward0>)"
      ]
     },
     "execution_count": 33,
     "metadata": {},
     "output_type": "execute_result"
    }
   ],
   "source": [
    "loss = mnist_sig_loss(preds,train_y[:4])\n",
    "loss"
   ]
  },
  {
   "cell_type": "code",
   "execution_count": 34,
   "id": "ef8691af",
   "metadata": {},
   "outputs": [],
   "source": [
    "loss.backward()"
   ]
  },
  {
   "cell_type": "code",
   "execution_count": 35,
   "id": "49d19301",
   "metadata": {},
   "outputs": [
    {
     "data": {
      "text/plain": [
       "(torch.Size([784, 1]), tensor(-0.0057), tensor([-0.0355]))"
      ]
     },
     "execution_count": 35,
     "metadata": {},
     "output_type": "execute_result"
    }
   ],
   "source": [
    "#weights and bias calculated using init_params function which uses requires_grad_\n",
    "weights.grad.shape,weights.grad.mean(),bias.grad"
   ]
  },
  {
   "cell_type": "code",
   "execution_count": 36,
   "id": "524f6984",
   "metadata": {},
   "outputs": [],
   "source": [
    "def cal_grad(xb,yb,model):\n",
    "    preds = model(xb)\n",
    "    loss = mnist_sig_loss(preds,yb)\n",
    "    loss = loss.backward()\n",
    "    #return weights.grad.mean(),bias.grad"
   ]
  },
  {
   "cell_type": "code",
   "execution_count": 37,
   "id": "0d9bae4a",
   "metadata": {},
   "outputs": [],
   "source": [
    "cal_grad(batch,train_y[:4],linear1)"
   ]
  },
  {
   "cell_type": "code",
   "execution_count": 38,
   "id": "776ac5a7",
   "metadata": {},
   "outputs": [],
   "source": [
    "cal_grad(batch,train_y[:4],linear1)"
   ]
  },
  {
   "cell_type": "code",
   "execution_count": 39,
   "id": "b7d3e4ac",
   "metadata": {},
   "outputs": [],
   "source": [
    "## the gradients have changed for the above model, because of backprop"
   ]
  },
  {
   "cell_type": "code",
   "execution_count": 40,
   "id": "fa63cd58",
   "metadata": {},
   "outputs": [],
   "source": [
    "def train_epoch(model,lr,params):\n",
    "    for xb,yb in dl:\n",
    "        cal_grad(xb,yb,model)\n",
    "        for p in params:\n",
    "            p.data -= p.grad * lr\n",
    "            p.grad.zero_()"
   ]
  },
  {
   "cell_type": "code",
   "execution_count": 41,
   "id": "56a72133",
   "metadata": {},
   "outputs": [
    {
     "data": {
      "text/plain": [
       "tensor([[ True],\n",
       "        [ True],\n",
       "        [False],\n",
       "        [False]])"
      ]
     },
     "execution_count": 41,
     "metadata": {},
     "output_type": "execute_result"
    }
   ],
   "source": [
    "#accuracy should be calculated too, of the validation set\n",
    "\n",
    "(preds>0.5).float() == train_y[:4]\n"
   ]
  },
  {
   "cell_type": "code",
   "execution_count": 42,
   "id": "97813512",
   "metadata": {},
   "outputs": [],
   "source": [
    "#definig accuracy function\n",
    "\n",
    "def batch_accuracy(xb,yb):\n",
    "    preds = xb.sigmoid()\n",
    "    correct = (preds>0.5) == yb\n",
    "    return correct.float().mean()"
   ]
  },
  {
   "cell_type": "code",
   "execution_count": 43,
   "id": "5b606665",
   "metadata": {},
   "outputs": [
    {
     "data": {
      "text/plain": [
       "torch.Tensor"
      ]
     },
     "execution_count": 43,
     "metadata": {},
     "output_type": "execute_result"
    }
   ],
   "source": [
    "type(batch_accuracy(linear1(batch),train_y[:4]))"
   ]
  },
  {
   "cell_type": "code",
   "execution_count": 44,
   "id": "e2c1ae14",
   "metadata": {},
   "outputs": [],
   "source": [
    "def validate_epoch(model):\n",
    "    accs = [batch_accuracy(model(xb),yb) for xb,yb in dl]\n",
    "    return round(torch.stack(accs).mean().item(),4)"
   ]
  },
  {
   "cell_type": "code",
   "execution_count": 45,
   "id": "127dd092",
   "metadata": {},
   "outputs": [
    {
     "data": {
      "text/plain": [
       "0.557"
      ]
     },
     "execution_count": 45,
     "metadata": {},
     "output_type": "execute_result"
    }
   ],
   "source": [
    "validate_epoch(linear1)"
   ]
  },
  {
   "cell_type": "code",
   "execution_count": 46,
   "id": "eb5e5558",
   "metadata": {},
   "outputs": [],
   "source": [
    "lr = 1.0\n",
    "params = weights,bias\n",
    "\n",
    "train_epoch(linear1,lr,params)"
   ]
  },
  {
   "cell_type": "code",
   "execution_count": 47,
   "id": "38a89cf1",
   "metadata": {},
   "outputs": [
    {
     "data": {
      "text/plain": [
       "0.6564"
      ]
     },
     "execution_count": 47,
     "metadata": {},
     "output_type": "execute_result"
    }
   ],
   "source": [
    "validate_epoch(linear1)"
   ]
  },
  {
   "cell_type": "code",
   "execution_count": 48,
   "id": "afff56ae",
   "metadata": {},
   "outputs": [
    {
     "name": "stdout",
     "output_type": "stream",
     "text": [
      "0.832 0.9177 0.9442 0.9553 0.9614 0.9665 0.9692 0.9712 0.9737 0.9746 0.9755 0.9762 0.9769 0.9778 0.9783 0.979 0.9794 0.9797 0.98 0.9801 "
     ]
    }
   ],
   "source": [
    "for i in range(20):\n",
    "    train_epoch(linear1, lr, params)\n",
    "    print(validate_epoch(linear1), end=' ')"
   ]
  },
  {
   "cell_type": "markdown",
   "id": "d4aade27",
   "metadata": {},
   "source": [
    "## Creating an optimizer"
   ]
  },
  {
   "cell_type": "code",
   "execution_count": 49,
   "id": "e70063bc",
   "metadata": {},
   "outputs": [
    {
     "data": {
      "text/plain": [
       "(torch.Size([1, 784]), torch.Size([1]))"
      ]
     },
     "execution_count": 49,
     "metadata": {},
     "output_type": "execute_result"
    }
   ],
   "source": [
    "linear_model = nn.Linear(28*28,1)\n",
    "\n",
    "w,b = linear_model.parameters() \n",
    "w.shape,b.shape"
   ]
  },
  {
   "cell_type": "code",
   "execution_count": 50,
   "id": "214e66ac",
   "metadata": {},
   "outputs": [],
   "source": [
    "class BasicOptim:\n",
    "    \n",
    "    def __init__(self,params,lr): \n",
    "        self.params,self.lr = list(params), lr\n",
    "        \n",
    "    def step(self, *args, **kwargs): \n",
    "        for p in self.params:\n",
    "            p.data -= p.grad.data * lr\n",
    "            \n",
    "    def zero_grad(self, *args, **kwargs):\n",
    "        for p in self.params:\n",
    "            p.grad = None"
   ]
  },
  {
   "cell_type": "code",
   "execution_count": 51,
   "id": "f7ffb011",
   "metadata": {},
   "outputs": [],
   "source": [
    "opt = BasicOptim(linear_model.parameters(),lr)"
   ]
  },
  {
   "cell_type": "code",
   "execution_count": 52,
   "id": "06791dd9",
   "metadata": {},
   "outputs": [],
   "source": [
    "def train_epoch(model):\n",
    "    for xb,yb in dl:\n",
    "        cal_grad(xb,yb,model)\n",
    "        opt.step()\n",
    "        opt.zero_grad()"
   ]
  },
  {
   "cell_type": "code",
   "execution_count": 53,
   "id": "e80410c9",
   "metadata": {},
   "outputs": [
    {
     "data": {
      "text/plain": [
       "0.3811"
      ]
     },
     "execution_count": 53,
     "metadata": {},
     "output_type": "execute_result"
    }
   ],
   "source": [
    "validate_epoch(linear_model)"
   ]
  },
  {
   "cell_type": "code",
   "execution_count": 54,
   "id": "3111a33e",
   "metadata": {},
   "outputs": [],
   "source": [
    "def train_model(model,epochs):\n",
    "    for i in range(epochs):\n",
    "        train_epoch(model)\n",
    "        print(validate_epoch(model), end = '')"
   ]
  },
  {
   "cell_type": "code",
   "execution_count": 55,
   "id": "49517c58",
   "metadata": {},
   "outputs": [
    {
     "name": "stdout",
     "output_type": "stream",
     "text": [
      "0.48880.76360.85020.90590.93140.94560.95340.95910.96470.96810.97080.97270.97410.97510.97620.97690.97780.97830.97890.9798"
     ]
    }
   ],
   "source": [
    "train_model(linear_model,20)"
   ]
  },
  {
   "cell_type": "code",
   "execution_count": 56,
   "id": "37b15beb",
   "metadata": {},
   "outputs": [
    {
     "name": "stdout",
     "output_type": "stream",
     "text": [
      "0.48880.81070.84720.90630.93180.94590.95360.95960.96520.96850.97070.9730.97440.97510.97620.9770.97780.97840.9790.9796"
     ]
    }
   ],
   "source": [
    "linear_model = nn.Linear(28*28,1)\n",
    "opt = SGD(linear_model.parameters(), lr)\n",
    "train_model(linear_model, 20)"
   ]
  },
  {
   "cell_type": "code",
   "execution_count": 57,
   "id": "b83dc6f8",
   "metadata": {},
   "outputs": [],
   "source": [
    "dls = DataLoaders(dl, valid_dl)"
   ]
  },
  {
   "cell_type": "markdown",
   "id": "f10aa921",
   "metadata": {},
   "source": [
    "To create a Learner without using an application (such as cnn_learner) we need to pass in all the elements that we've created in this chapter: the DataLoaders, the model, the optimization function (which will be passed the parameters), the loss function, and optionally any metrics to print:"
   ]
  },
  {
   "cell_type": "code",
   "execution_count": 60,
   "id": "13d8cf52",
   "metadata": {},
   "outputs": [],
   "source": [
    "learn = Learner(dls, nn.Linear(28*28,1), opt_func=SGD,\n",
    "                loss_func=mnist_sig_loss, metrics=batch_accuracy)"
   ]
  },
  {
   "cell_type": "code",
   "execution_count": 61,
   "id": "b49655dd",
   "metadata": {},
   "outputs": [
    {
     "data": {
      "text/html": [
       "<table border=\"1\" class=\"dataframe\">\n",
       "  <thead>\n",
       "    <tr style=\"text-align: left;\">\n",
       "      <th>epoch</th>\n",
       "      <th>train_loss</th>\n",
       "      <th>valid_loss</th>\n",
       "      <th>batch_accuracy</th>\n",
       "      <th>time</th>\n",
       "    </tr>\n",
       "  </thead>\n",
       "  <tbody>\n",
       "    <tr>\n",
       "      <td>0</td>\n",
       "      <td>0.636784</td>\n",
       "      <td>0.503385</td>\n",
       "      <td>0.495584</td>\n",
       "      <td>00:00</td>\n",
       "    </tr>\n",
       "    <tr>\n",
       "      <td>1</td>\n",
       "      <td>0.481311</td>\n",
       "      <td>0.204066</td>\n",
       "      <td>0.826300</td>\n",
       "      <td>00:00</td>\n",
       "    </tr>\n",
       "    <tr>\n",
       "      <td>2</td>\n",
       "      <td>0.178204</td>\n",
       "      <td>0.176501</td>\n",
       "      <td>0.839549</td>\n",
       "      <td>00:00</td>\n",
       "    </tr>\n",
       "    <tr>\n",
       "      <td>3</td>\n",
       "      <td>0.079017</td>\n",
       "      <td>0.106269</td>\n",
       "      <td>0.911187</td>\n",
       "      <td>00:00</td>\n",
       "    </tr>\n",
       "    <tr>\n",
       "      <td>4</td>\n",
       "      <td>0.042443</td>\n",
       "      <td>0.078025</td>\n",
       "      <td>0.932777</td>\n",
       "      <td>00:00</td>\n",
       "    </tr>\n",
       "    <tr>\n",
       "      <td>5</td>\n",
       "      <td>0.028133</td>\n",
       "      <td>0.062590</td>\n",
       "      <td>0.946025</td>\n",
       "      <td>00:00</td>\n",
       "    </tr>\n",
       "    <tr>\n",
       "      <td>6</td>\n",
       "      <td>0.022230</td>\n",
       "      <td>0.052910</td>\n",
       "      <td>0.955348</td>\n",
       "      <td>00:00</td>\n",
       "    </tr>\n",
       "    <tr>\n",
       "      <td>7</td>\n",
       "      <td>0.019588</td>\n",
       "      <td>0.046466</td>\n",
       "      <td>0.962709</td>\n",
       "      <td>00:00</td>\n",
       "    </tr>\n",
       "    <tr>\n",
       "      <td>8</td>\n",
       "      <td>0.018230</td>\n",
       "      <td>0.041952</td>\n",
       "      <td>0.965653</td>\n",
       "      <td>00:00</td>\n",
       "    </tr>\n",
       "    <tr>\n",
       "      <td>9</td>\n",
       "      <td>0.017402</td>\n",
       "      <td>0.038634</td>\n",
       "      <td>0.967125</td>\n",
       "      <td>00:00</td>\n",
       "    </tr>\n",
       "  </tbody>\n",
       "</table>"
      ],
      "text/plain": [
       "<IPython.core.display.HTML object>"
      ]
     },
     "metadata": {},
     "output_type": "display_data"
    }
   ],
   "source": [
    "learn.fit(10, lr = lr)"
   ]
  },
  {
   "cell_type": "markdown",
   "id": "19fc890a",
   "metadata": {},
   "source": [
    "## Converting to a neural network"
   ]
  },
  {
   "cell_type": "code",
   "execution_count": 68,
   "id": "bdd1d671",
   "metadata": {},
   "outputs": [],
   "source": [
    "def simple_net(xb):\n",
    "    res = xb@w1 + b1\n",
    "    res = res.max(tensor(0.0))   #takes the max of res and 0, converts all negative numbers to zero, \n",
    "                                           #also known as ReLu function\n",
    "    res = res@w2 + b2\n",
    "    return res\n",
    "    "
   ]
  },
  {
   "cell_type": "code",
   "execution_count": 69,
   "id": "26d550d3",
   "metadata": {},
   "outputs": [],
   "source": [
    "w1 = init_params((28*28,30))\n",
    "b1 = init_params(30)\n",
    "w2 = init_params((30,1))\n",
    "b2 = init_params(1)\n",
    "\n",
    "# w1 has 30 o/p activations, therefore, w2 must have 30 i/p, they must match"
   ]
  },
  {
   "cell_type": "code",
   "execution_count": 70,
   "id": "7a8674bd",
   "metadata": {},
   "outputs": [
    {
     "data": {
      "image/png": "[encoded data removed]",
      "text/plain": [
       "<Figure size 432x288 with 1 Axes>"
      ]
     },
     "metadata": {
      "needs_background": "light"
     },
     "output_type": "display_data"
    }
   ],
   "source": [
    "plot_function(F.relu)"
   ]
  },
  {
   "cell_type": "code",
   "execution_count": 71,
   "id": "f2a71c1b",
   "metadata": {},
   "outputs": [],
   "source": [
    "simple_net = nn.Sequential(\n",
    "    nn.Linear(28*28,30),\n",
    "    nn.ReLU(),\n",
    "    nn.Linear(30,1)\n",
    ")"
   ]
  },
  {
   "cell_type": "code",
   "execution_count": 74,
   "id": "c8d335c5",
   "metadata": {},
   "outputs": [],
   "source": [
    "learn = Learner(dls, simple_net, opt_func=SGD,\n",
    "                loss_func=mnist_sig_loss, metrics=batch_accuracy)"
   ]
  },
  {
   "cell_type": "code",
   "execution_count": 75,
   "id": "c9e56927",
   "metadata": {},
   "outputs": [
    {
     "data": {
      "text/html": [
       "<table border=\"1\" class=\"dataframe\">\n",
       "  <thead>\n",
       "    <tr style=\"text-align: left;\">\n",
       "      <th>epoch</th>\n",
       "      <th>train_loss</th>\n",
       "      <th>valid_loss</th>\n",
       "      <th>batch_accuracy</th>\n",
       "      <th>time</th>\n",
       "    </tr>\n",
       "  </thead>\n",
       "  <tbody>\n",
       "    <tr>\n",
       "      <td>0</td>\n",
       "      <td>0.313382</td>\n",
       "      <td>0.416005</td>\n",
       "      <td>0.504416</td>\n",
       "      <td>00:00</td>\n",
       "    </tr>\n",
       "    <tr>\n",
       "      <td>1</td>\n",
       "      <td>0.145429</td>\n",
       "      <td>0.230025</td>\n",
       "      <td>0.799804</td>\n",
       "      <td>00:00</td>\n",
       "    </tr>\n",
       "    <tr>\n",
       "      <td>2</td>\n",
       "      <td>0.080194</td>\n",
       "      <td>0.115028</td>\n",
       "      <td>0.917076</td>\n",
       "      <td>00:00</td>\n",
       "    </tr>\n",
       "    <tr>\n",
       "      <td>3</td>\n",
       "      <td>0.052595</td>\n",
       "      <td>0.077700</td>\n",
       "      <td>0.940628</td>\n",
       "      <td>00:00</td>\n",
       "    </tr>\n",
       "    <tr>\n",
       "      <td>4</td>\n",
       "      <td>0.039840</td>\n",
       "      <td>0.060676</td>\n",
       "      <td>0.954858</td>\n",
       "      <td>00:00</td>\n",
       "    </tr>\n",
       "    <tr>\n",
       "      <td>5</td>\n",
       "      <td>0.033341</td>\n",
       "      <td>0.051112</td>\n",
       "      <td>0.964181</td>\n",
       "      <td>00:00</td>\n",
       "    </tr>\n",
       "    <tr>\n",
       "      <td>6</td>\n",
       "      <td>0.029615</td>\n",
       "      <td>0.045101</td>\n",
       "      <td>0.966143</td>\n",
       "      <td>00:00</td>\n",
       "    </tr>\n",
       "    <tr>\n",
       "      <td>7</td>\n",
       "      <td>0.027202</td>\n",
       "      <td>0.040997</td>\n",
       "      <td>0.967125</td>\n",
       "      <td>00:00</td>\n",
       "    </tr>\n",
       "    <tr>\n",
       "      <td>8</td>\n",
       "      <td>0.025469</td>\n",
       "      <td>0.038020</td>\n",
       "      <td>0.968106</td>\n",
       "      <td>00:00</td>\n",
       "    </tr>\n",
       "    <tr>\n",
       "      <td>9</td>\n",
       "      <td>0.024132</td>\n",
       "      <td>0.035748</td>\n",
       "      <td>0.971541</td>\n",
       "      <td>00:00</td>\n",
       "    </tr>\n",
       "    <tr>\n",
       "      <td>10</td>\n",
       "      <td>0.023052</td>\n",
       "      <td>0.033943</td>\n",
       "      <td>0.972522</td>\n",
       "      <td>00:00</td>\n",
       "    </tr>\n",
       "    <tr>\n",
       "      <td>11</td>\n",
       "      <td>0.022151</td>\n",
       "      <td>0.032463</td>\n",
       "      <td>0.973994</td>\n",
       "      <td>00:00</td>\n",
       "    </tr>\n",
       "    <tr>\n",
       "      <td>12</td>\n",
       "      <td>0.021384</td>\n",
       "      <td>0.031217</td>\n",
       "      <td>0.973994</td>\n",
       "      <td>00:00</td>\n",
       "    </tr>\n",
       "    <tr>\n",
       "      <td>13</td>\n",
       "      <td>0.020721</td>\n",
       "      <td>0.030146</td>\n",
       "      <td>0.975466</td>\n",
       "      <td>00:00</td>\n",
       "    </tr>\n",
       "    <tr>\n",
       "      <td>14</td>\n",
       "      <td>0.020139</td>\n",
       "      <td>0.029210</td>\n",
       "      <td>0.975957</td>\n",
       "      <td>00:00</td>\n",
       "    </tr>\n",
       "    <tr>\n",
       "      <td>15</td>\n",
       "      <td>0.019624</td>\n",
       "      <td>0.028385</td>\n",
       "      <td>0.976938</td>\n",
       "      <td>00:00</td>\n",
       "    </tr>\n",
       "    <tr>\n",
       "      <td>16</td>\n",
       "      <td>0.019163</td>\n",
       "      <td>0.027651</td>\n",
       "      <td>0.977429</td>\n",
       "      <td>00:00</td>\n",
       "    </tr>\n",
       "    <tr>\n",
       "      <td>17</td>\n",
       "      <td>0.018747</td>\n",
       "      <td>0.026993</td>\n",
       "      <td>0.978410</td>\n",
       "      <td>00:00</td>\n",
       "    </tr>\n",
       "    <tr>\n",
       "      <td>18</td>\n",
       "      <td>0.018369</td>\n",
       "      <td>0.026400</td>\n",
       "      <td>0.978410</td>\n",
       "      <td>00:00</td>\n",
       "    </tr>\n",
       "    <tr>\n",
       "      <td>19</td>\n",
       "      <td>0.018022</td>\n",
       "      <td>0.025863</td>\n",
       "      <td>0.978410</td>\n",
       "      <td>00:00</td>\n",
       "    </tr>\n",
       "  </tbody>\n",
       "</table>"
      ],
      "text/plain": [
       "<IPython.core.display.HTML object>"
      ]
     },
     "metadata": {},
     "output_type": "display_data"
    }
   ],
   "source": [
    "learn.fit(20, 0.1)"
   ]
  },
  {
   "cell_type": "code",
   "execution_count": 77,
   "id": "8335e04b",
   "metadata": {},
   "outputs": [
    {
     "data": {
      "image/png": "[encoded data removed]",
      "text/plain": [
       "<Figure size 432x288 with 1 Axes>"
      ]
     },
     "metadata": {
      "needs_background": "light"
     },
     "output_type": "display_data"
    }
   ],
   "source": [
    "plt.plot(L(learn.recorder.values).itemgot(2));"
   ]
  },
  {
   "cell_type": "code",
   "execution_count": 78,
   "id": "719d5696",
   "metadata": {},
   "outputs": [
    {
     "data": {
      "text/plain": [
       "0.9784101843833923"
      ]
     },
     "execution_count": 78,
     "metadata": {},
     "output_type": "execute_result"
    }
   ],
   "source": [
    "learn.recorder.values[-1][2]"
   ]
  },
  {
   "cell_type": "code",
   "execution_count": 79,
   "id": "5bc2f11e",
   "metadata": {},
   "outputs": [
    {
     "data": {
      "text/html": [
       "<table border=\"1\" class=\"dataframe\">\n",
       "  <thead>\n",
       "    <tr style=\"text-align: left;\">\n",
       "      <th>epoch</th>\n",
       "      <th>train_loss</th>\n",
       "      <th>valid_loss</th>\n",
       "      <th>accuracy</th>\n",
       "      <th>time</th>\n",
       "    </tr>\n",
       "  </thead>\n",
       "  <tbody>\n",
       "    <tr>\n",
       "      <td>0</td>\n",
       "      <td>0.098737</td>\n",
       "      <td>0.007145</td>\n",
       "      <td>0.997056</td>\n",
       "      <td>00:13</td>\n",
       "    </tr>\n",
       "  </tbody>\n",
       "</table>"
      ],
      "text/plain": [
       "<IPython.core.display.HTML object>"
      ]
     },
     "metadata": {},
     "output_type": "display_data"
    }
   ],
   "source": [
    "dls = ImageDataLoaders.from_folder(path)\n",
    "learn = cnn_learner(dls, resnet18, pretrained=False,\n",
    "                    loss_func=F.cross_entropy, metrics=accuracy)\n",
    "learn.fit_one_cycle(1, 0.1)"
   ]
  },
  {
   "cell_type": "code",
   "execution_count": null,
   "id": "c91d6b21",
   "metadata": {},
   "outputs": [],
   "source": []
  }
 ],
 "metadata": {
  "kernelspec": {
   "display_name": "Python 3",
   "language": "python",
   "name": "python3"
  },
  "language_info": {
   "codemirror_mode": {
    "name": "ipython",
    "version": 3
   },
   "file_extension": ".py",
   "mimetype": "text/x-python",
   "name": "python",
   "nbconvert_exporter": "python",
   "pygments_lexer": "ipython3",
   "version": "3.8.8"
  }
 },
 "nbformat": 4,
 "nbformat_minor": 5
}
