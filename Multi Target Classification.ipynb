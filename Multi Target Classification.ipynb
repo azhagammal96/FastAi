{
 "cells": [
  {
   "cell_type": "markdown",
   "metadata": {},
   "source": [
    "# Multi Target Classification"
   ]
  },
  {
   "cell_type": "code",
   "execution_count": 1,
   "metadata": {},
   "outputs": [],
   "source": [
    "#hide\n",
    "!pip install -Uqq fastbook\n",
    "import fastbook\n",
    "fastbook.setup_book()"
   ]
  },
  {
   "cell_type": "code",
   "execution_count": 2,
   "metadata": {},
   "outputs": [],
   "source": [
    "#hide\n",
    "from fastbook import *"
   ]
  },
  {
   "cell_type": "code",
   "execution_count": 3,
   "metadata": {},
   "outputs": [],
   "source": [
    "torch.random.manual_seed(42);\n",
    "\n",
    "acts = torch.randn((6,2))*2\n"
   ]
  },
  {
   "cell_type": "code",
   "execution_count": 4,
   "metadata": {},
   "outputs": [
    {
     "data": {
      "text/plain": [
       "tensor([[0.6025, 0.3975],\n",
       "        [0.5021, 0.4979],\n",
       "        [0.1332, 0.8668],\n",
       "        [0.9966, 0.0034],\n",
       "        [0.5959, 0.4041],\n",
       "        [0.3661, 0.6339]])"
      ]
     },
     "execution_count": 4,
     "metadata": {},
     "output_type": "execute_result"
    }
   ],
   "source": [
    "targ = tensor([0,1,0,1,1,0])\n",
    "sm_acts = torch.softmax(acts, dim=1)\n",
    "sm_acts"
   ]
  },
  {
   "cell_type": "code",
   "execution_count": 5,
   "metadata": {},
   "outputs": [
    {
     "data": {
      "text/plain": [
       "tensor([0.6025, 0.4979, 0.1332, 0.0034, 0.4041, 0.3661])"
      ]
     },
     "execution_count": 5,
     "metadata": {},
     "output_type": "execute_result"
    }
   ],
   "source": [
    "idx = range(6)\n",
    "sm_acts[idx, targ]       #identical to torch.where for more tha two values\n"
   ]
  },
  {
   "cell_type": "markdown",
   "metadata": {},
   "source": [
    "### for row1(label 0), it picks from the 0th index, i.e, 0.6, for the second row(label 1), it picks the first from the first row, i.e 0.49"
   ]
  },
  {
   "cell_type": "code",
   "execution_count": 6,
   "metadata": {},
   "outputs": [],
   "source": [
    "import pandas as pd"
   ]
  },
  {
   "cell_type": "code",
   "execution_count": 7,
   "metadata": {},
   "outputs": [
    {
     "data": {
      "text/html": [
       "<div>\n",
       "<style scoped>\n",
       "    .dataframe tbody tr th:only-of-type {\n",
       "        vertical-align: middle;\n",
       "    }\n",
       "\n",
       "    .dataframe tbody tr th {\n",
       "        vertical-align: top;\n",
       "    }\n",
       "\n",
       "    .dataframe thead th {\n",
       "        text-align: right;\n",
       "    }\n",
       "</style>\n",
       "<table border=\"1\" class=\"dataframe\">\n",
       "  <thead>\n",
       "    <tr style=\"text-align: right;\">\n",
       "      <th></th>\n",
       "      <th>3</th>\n",
       "      <th>7</th>\n",
       "      <th>targ</th>\n",
       "      <th>idx</th>\n",
       "      <th>loss</th>\n",
       "    </tr>\n",
       "  </thead>\n",
       "  <tbody>\n",
       "    <tr>\n",
       "      <th>0</th>\n",
       "      <td>0.602469</td>\n",
       "      <td>0.397531</td>\n",
       "      <td>0</td>\n",
       "      <td>0</td>\n",
       "      <td>0.602469</td>\n",
       "    </tr>\n",
       "    <tr>\n",
       "      <th>1</th>\n",
       "      <td>0.502065</td>\n",
       "      <td>0.497935</td>\n",
       "      <td>1</td>\n",
       "      <td>1</td>\n",
       "      <td>0.497935</td>\n",
       "    </tr>\n",
       "    <tr>\n",
       "      <th>2</th>\n",
       "      <td>0.133188</td>\n",
       "      <td>0.866811</td>\n",
       "      <td>0</td>\n",
       "      <td>2</td>\n",
       "      <td>0.133188</td>\n",
       "    </tr>\n",
       "    <tr>\n",
       "      <th>3</th>\n",
       "      <td>0.996640</td>\n",
       "      <td>0.003360</td>\n",
       "      <td>1</td>\n",
       "      <td>3</td>\n",
       "      <td>0.003360</td>\n",
       "    </tr>\n",
       "    <tr>\n",
       "      <th>4</th>\n",
       "      <td>0.595949</td>\n",
       "      <td>0.404051</td>\n",
       "      <td>1</td>\n",
       "      <td>4</td>\n",
       "      <td>0.404051</td>\n",
       "    </tr>\n",
       "    <tr>\n",
       "      <th>5</th>\n",
       "      <td>0.366118</td>\n",
       "      <td>0.633882</td>\n",
       "      <td>0</td>\n",
       "      <td>5</td>\n",
       "      <td>0.366118</td>\n",
       "    </tr>\n",
       "  </tbody>\n",
       "</table>\n",
       "</div>"
      ],
      "text/plain": [
       "          3         7  targ  idx      loss\n",
       "0  0.602469  0.397531     0    0  0.602469\n",
       "1  0.502065  0.497935     1    1  0.497935\n",
       "2  0.133188  0.866811     0    2  0.133188\n",
       "3  0.996640  0.003360     1    3  0.003360\n",
       "4  0.595949  0.404051     1    4  0.404051\n",
       "5  0.366118  0.633882     0    5  0.366118"
      ]
     },
     "execution_count": 7,
     "metadata": {},
     "output_type": "execute_result"
    }
   ],
   "source": [
    "df = pd.DataFrame(sm_acts, columns = ['3','7'])\n",
    "df['targ'] = targ\n",
    "df['idx'] = idx\n",
    "df['loss'] = sm_acts[idx,targ]\n",
    "df"
   ]
  },
  {
   "cell_type": "markdown",
   "metadata": {},
   "source": [
    "Looking at this table, you can see that the final column can be calculated by taking the targ and idx columns as indices into the two-column matrix containing the 3 and 7 columns. That's what sm_acts[idx, targ] is actually doing.\n",
    "\n"
   ]
  },
  {
   "cell_type": "code",
   "execution_count": 8,
   "metadata": {},
   "outputs": [
    {
     "data": {
      "text/plain": [
       "tensor([-0.6025, -0.4979, -0.1332, -0.0034, -0.4041, -0.3661])"
      ]
     },
     "execution_count": 8,
     "metadata": {},
     "output_type": "execute_result"
    }
   ],
   "source": [
    "-sm_acts[idx,targ]"
   ]
  },
  {
   "cell_type": "code",
   "execution_count": 9,
   "metadata": {},
   "outputs": [
    {
     "data": {
      "text/plain": [
       "tensor([-0.6025, -0.4979, -0.1332, -0.0034, -0.4041, -0.3661])"
      ]
     },
     "execution_count": 9,
     "metadata": {},
     "output_type": "execute_result"
    }
   ],
   "source": [
    "F.nll_loss(sm_acts,targ,reduction='none')"
   ]
  },
  {
   "cell_type": "code",
   "execution_count": null,
   "metadata": {},
   "outputs": [],
   "source": []
  }
 ],
 "metadata": {
  "jupytext": {
   "split_at_heading": true
  },
  "kernelspec": {
   "display_name": "Python 3",
   "language": "python",
   "name": "python3"
  },
  "language_info": {
   "codemirror_mode": {
    "name": "ipython",
    "version": 3
   },
   "file_extension": ".py",
   "mimetype": "text/x-python",
   "name": "python",
   "nbconvert_exporter": "python",
   "pygments_lexer": "ipython3",
   "version": "3.8.8"
  }
 },
 "nbformat": 4,
 "nbformat_minor": 2
}
