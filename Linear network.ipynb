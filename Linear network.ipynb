{
 "cells": [
  {
   "cell_type": "markdown",
   "id": "0c1b4e2f",
   "metadata": {},
   "source": [
    "# MNIST Loss Function Example"
   ]
  },
  {
   "cell_type": "code",
   "execution_count": 1,
   "id": "cb2c918c",
   "metadata": {},
   "outputs": [
    {
     "name": "stderr",
     "output_type": "stream",
     "text": [
      "/home/azhasc/anaconda3/lib/python3.8/site-packages/torch/cuda/__init__.py:52: UserWarning: CUDA initialization: The NVIDIA driver on your system is too old (found version 10020). Please update your GPU driver by downloading and installing a new version from the URL: http://www.nvidia.com/Download/index.aspx Alternatively, go to: https://pytorch.org to install a PyTorch version that has been compiled with your version of the CUDA driver. (Triggered internally at  /pytorch/c10/cuda/CUDAFunctions.cpp:100.)\n",
      "  return torch._C._cuda_getDeviceCount() > 0\n"
     ]
    }
   ],
   "source": [
    "import torch\n",
    "import matplotlib.pyplot as plt\n",
    "\n",
    "import fastbook\n",
    "fastbook.setup_book()\n",
    "from fastai.vision.all import *\n",
    "from fastbook import *\n",
    "#!pip install torch==1.7.0+cu110 torchvision==0.8.1+cu110 torchaudio===0.7.0 -f https://download.pytorch.org/whl/torch_stable.html\n"
   ]
  },
  {
   "cell_type": "code",
   "execution_count": 61,
   "id": "11d7bec0",
   "metadata": {},
   "outputs": [
    {
     "data": {
      "text/plain": [
       "Path('/home/azhasc/.fastai/data/mnist_sample')"
      ]
     },
     "execution_count": 61,
     "metadata": {},
     "output_type": "execute_result"
    }
   ],
   "source": [
    "path = untar_data(URLs.MNIST_SAMPLE)\n",
    "path"
   ]
  },
  {
   "cell_type": "code",
   "execution_count": 67,
   "id": "6524e842",
   "metadata": {},
   "outputs": [
    {
     "data": {
      "text/plain": [
       "6131"
      ]
     },
     "execution_count": 67,
     "metadata": {},
     "output_type": "execute_result"
    }
   ],
   "source": [
    "threes = (path/'train'/'3').ls().sorted()\n",
    "sevens = (path/'train'/'7').ls().sorted()"
   ]
  },
  {
   "cell_type": "code",
   "execution_count": 4,
   "id": "99800bc2",
   "metadata": {},
   "outputs": [],
   "source": [
    "valid_3_tens = torch.stack([tensor(Image.open(o)) \n",
    "                            for o in (path/'valid'/'3').ls()])\n",
    "valid_3_tens = valid_3_tens.float()/255\n",
    "valid_7_tens = torch.stack([tensor(Image.open(o)) \n",
    "                            for o in (path/'valid'/'7').ls()])\n",
    "valid_7_tens = valid_7_tens.float()/255\n",
    "\n",
    "three_tensors = [tensor(Image.open(o)) for o in threes]\n",
    "seven_tensors = [tensor(Image.open(o)) for o in sevens]"
   ]
  },
  {
   "cell_type": "code",
   "execution_count": 70,
   "id": "dcab2c6a",
   "metadata": {},
   "outputs": [
    {
     "data": {
      "text/plain": [
       "(6131, 6265)"
      ]
     },
     "execution_count": 70,
     "metadata": {},
     "output_type": "execute_result"
    }
   ],
   "source": [
    "stacked_threes = torch.stack(three_tensors).float()/255\n",
    "stacked_sevens = torch.stack(seven_tensors).float()/255\n"
   ]
  },
  {
   "cell_type": "code",
   "execution_count": 69,
   "id": "0cffae59",
   "metadata": {},
   "outputs": [
    {
     "data": {
      "text/plain": [
       "12396"
      ]
     },
     "execution_count": 69,
     "metadata": {},
     "output_type": "execute_result"
    }
   ],
   "source": [
    "train_x = torch.cat([stacked_threes, stacked_sevens]).view(-1,28*28)\n",
    "train_y = tensor([1]*len(threes) + [0]* len(sevens)).unsqueeze(1)\n",
    "\n",
    "dset = list(zip(train_x,train_y))\n",
    "x,y = dset[0]\n",
    "x.shape,y"
   ]
  },
  {
   "cell_type": "code",
   "execution_count": 25,
   "id": "b59ff553",
   "metadata": {},
   "outputs": [],
   "source": [
    "valid_x = torch.cat([valid_3_tens, valid_7_tens]).view(-1, 28*28)\n",
    "valid_y = tensor([1]*len(valid_3_tens) + [0]*len(valid_7_tens)).unsqueeze(1)\n",
    "valid_dset = list(zip(valid_x,valid_y))"
   ]
  },
  {
   "cell_type": "code",
   "execution_count": 8,
   "id": "d6522068",
   "metadata": {},
   "outputs": [],
   "source": [
    "#Step 1\n",
    "def init_params(size, std = 1.0): return (torch.randn(size)*std).requires_grad_()"
   ]
  },
  {
   "cell_type": "code",
   "execution_count": 9,
   "id": "53129e29",
   "metadata": {},
   "outputs": [],
   "source": [
    "weights = init_params((28*28,1))\n",
    "bias = init_params(1)"
   ]
  },
  {
   "cell_type": "code",
   "execution_count": 10,
   "id": "f127f0de",
   "metadata": {},
   "outputs": [],
   "source": [
    "def linear1(xb): return ((xb@weights) + bias)\n",
    "\n",
    "def sigmoid(x): return (1/(1+torch.exp(-x)))\n",
    "def mnist_sig_loss(predictions,targets):\n",
    "    predictions = predictions.sigmoid()\n",
    "    return torch.where(targets==1,1-predictions,predictions).mean()"
   ]
  },
  {
   "cell_type": "code",
   "execution_count": 26,
   "id": "8f923a4e",
   "metadata": {},
   "outputs": [],
   "source": [
    "#Create mini batches\n",
    "\n",
    "dl = DataLoader(dset[:100], batch_size = 256)\n",
    "valid_dl = DataLoader(valid_dset[:100], batch_size = 256)\n",
    "xb,yb = first(dl)\n",
    "xv,yv = first(valid_dl)"
   ]
  },
  {
   "cell_type": "code",
   "execution_count": 12,
   "id": "524f6984",
   "metadata": {},
   "outputs": [],
   "source": [
    "def cal_grad(xb,yb,model):\n",
    "    preds = model(xb)\n",
    "    loss = mnist_sig_loss(preds,yb)\n",
    "    loss = loss.backward()\n",
    "    return weights.grad.mean(),bias.grad"
   ]
  },
  {
   "cell_type": "code",
   "execution_count": 13,
   "id": "fa63cd58",
   "metadata": {},
   "outputs": [],
   "source": [
    "def train_epoch(model,lr,params):\n",
    "    for xb,yb in dl:\n",
    "        cal_grad(xb,yb,model)\n",
    "        for p in params:\n",
    "            p.data -= p.grad * lr\n",
    "            p.grad.zero_()"
   ]
  },
  {
   "cell_type": "code",
   "execution_count": 14,
   "id": "182e8f7c",
   "metadata": {},
   "outputs": [],
   "source": [
    "def valid_epoch(model,lr,params):\n",
    "    for xb,yb in valid_dl:\n",
    "        cal_grad(xb,yb,model)\n",
    "        for p in params:\n",
    "            p.data -= p.grad * lr\n",
    "            p.grad.zero_()"
   ]
  },
  {
   "cell_type": "code",
   "execution_count": 15,
   "id": "97813512",
   "metadata": {},
   "outputs": [],
   "source": [
    "def train_accuracy(xb,yb):\n",
    "    preds = xb.sigmoid()\n",
    "    correct = (preds>0.5) == yb\n",
    "    return correct.float().mean()"
   ]
  },
  {
   "cell_type": "code",
   "execution_count": 16,
   "id": "e2c1ae14",
   "metadata": {},
   "outputs": [],
   "source": [
    "def validate_train_epoch(model):\n",
    "    accs = [train_accuracy(model(xb),yb) for xb,yb in dl]\n",
    "    return round(torch.stack(accs).mean().item(),4)"
   ]
  },
  {
   "cell_type": "code",
   "execution_count": 17,
   "id": "71487677",
   "metadata": {},
   "outputs": [],
   "source": [
    "def validate_valid_epoch(model):\n",
    "    accs = [train_accuracy(model(xb),yb) for xb,yb in valid_dl]\n",
    "    return round(torch.stack(accs).mean().item(),4)"
   ]
  },
  {
   "cell_type": "code",
   "execution_count": 18,
   "id": "eb5e5558",
   "metadata": {},
   "outputs": [
    {
     "data": {
      "text/plain": [
       "0.7205"
      ]
     },
     "execution_count": 18,
     "metadata": {},
     "output_type": "execute_result"
    }
   ],
   "source": [
    "lr = 1.0\n",
    "params = weights,bias\n",
    "\n",
    "train_epoch(linear1,lr,params)\n",
    "validate_train_epoch(linear1)"
   ]
  },
  {
   "cell_type": "code",
   "execution_count": 19,
   "id": "b10b267e",
   "metadata": {},
   "outputs": [
    {
     "data": {
      "text/plain": [
       "0.845"
      ]
     },
     "execution_count": 19,
     "metadata": {},
     "output_type": "execute_result"
    }
   ],
   "source": [
    "valid_epoch(linear1,lr,params)\n",
    "validate_valid_epoch(linear1)"
   ]
  },
  {
   "cell_type": "code",
   "execution_count": 20,
   "id": "afff56ae",
   "metadata": {},
   "outputs": [
    {
     "name": "stdout",
     "output_type": "stream",
     "text": [
      "0.8542 0.9051 0.9265 0.9396 0.9477 0.9544 0.958 0.961 0.9631 0.9647 0.9663 0.9676 0.9693 0.9706 0.9718 0.9727 0.9736 0.9745 0.9753 0.9755 "
     ]
    }
   ],
   "source": [
    "for i in range(20):\n",
    "    train_epoch(linear1, lr, params)\n",
    "    print(validate_train_epoch(linear1), end=' ')"
   ]
  },
  {
   "cell_type": "code",
   "execution_count": 21,
   "id": "c0ec473c",
   "metadata": {},
   "outputs": [
    {
     "name": "stdout",
     "output_type": "stream",
     "text": [
      "0.9687 0.9687 0.9696 0.9696 0.9696 0.9701 0.9701 0.9716 0.9721 0.9726 0.9726 0.9736 0.9745 0.9745 0.975 0.975 0.9755 0.976 0.976 0.9765 "
     ]
    }
   ],
   "source": [
    "for i in range(20):\n",
    "    valid_epoch(linear1, lr, params)\n",
    "    print(validate_valid_epoch(linear1), end=' ')"
   ]
  }
 ],
 "metadata": {
  "kernelspec": {
   "display_name": "Python 3",
   "language": "python",
   "name": "python3"
  },
  "language_info": {
   "codemirror_mode": {
    "name": "ipython",
    "version": 3
   },
   "file_extension": ".py",
   "mimetype": "text/x-python",
   "name": "python",
   "nbconvert_exporter": "python",
   "pygments_lexer": "ipython3",
   "version": "3.8.8"
  }
 },
 "nbformat": 4,
 "nbformat_minor": 5
}
